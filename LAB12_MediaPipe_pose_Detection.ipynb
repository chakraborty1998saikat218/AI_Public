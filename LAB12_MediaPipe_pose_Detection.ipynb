{
 "cells": [
  {
   "cell_type": "code",
   "execution_count": 1,
   "metadata": {},
   "outputs": [],
   "source": [
    "## Installation command\n",
    "# pip install mediapipe opencv-python"
   ]
  },
  {
   "cell_type": "code",
   "execution_count": 2,
   "metadata": {},
   "outputs": [],
   "source": [
    "import cv2\n",
    "import mediapipe as mp\n",
    "import numpy as np\n",
    "from numpy.random import randn\n",
    "import uuid\n",
    "import matplotlib.pyplot as plt"
   ]
  },
  {
   "cell_type": "code",
   "execution_count": 3,
   "metadata": {},
   "outputs": [],
   "source": [
    "mp_drawing=mp.solutions.drawing_utils\n",
    "mp_pose=mp.solutions.pose"
   ]
  },
  {
   "cell_type": "code",
   "execution_count": 12,
   "metadata": {},
   "outputs": [],
   "source": [
    "## for static image\n",
    "image_files=[]\n",
    "\n",
    "## mediapipe pose process a RGB image and return pose landmark of the most prominent person detected.\n",
    "with mp_pose.Pose(static_image_mode=True,\n",
    "                 model_complexity=2,\n",
    "                  min_detection_confidence=0.5) as pose: ## static_image_mode its like a batch size.\n",
    "    \n",
    "    for idx,file in enumerate(image_files):\n",
    "        img=cv2.imread(file)\n",
    "        height,weidth=img.shape\n",
    "        ## convert BGR to RGB\n",
    "        results=pose.process(cv2.cvtColor(img,cv2.COLOR_BGR2RGB))\n",
    "        \n",
    "        if not results.pose_landmarks:\n",
    "            continue\n",
    "        \n",
    "        print(\n",
    "             f'Nose coordinates: ('\n",
    "             f'{results.pose_landmarks.landmark[mp_holistic.PoseLandmark.NOSE].x * weidth},'\n",
    "             f'{results.pose_landmarks.landmark[mp_holistic.PoseLandmark.NOSE].y * heigh})'\n",
    "             )\n",
    "        \n",
    "        ## Draw pose landmark on the image\n",
    "        annotated_img=img.copy()\n",
    "        mp_drawing.draw_landmarks(annotated_img,results.pose_landmarks,mp_pose.POSE_CONNECTIONS)\n",
    "        c2.imwrite('/tmp/annotated_image' + str(idx) + '.png' , annotated_img)\n",
    "        ## draw pose world landmark\n",
    "        mp_drawing.plot_landmarks(results.pose_world_landmarks, mp_pose.POSE_CONNECTIONS)\n",
    "        \n",
    "    "
   ]
  },
  {
   "cell_type": "code",
   "execution_count": 13,
   "metadata": {},
   "outputs": [],
   "source": [
    "## for webcam input\n",
    "video=cv2.VideoCapture(0)\n",
    "with mp_pose.Pose(\n",
    "    min_detection_confidence=0.5,\n",
    "    min_tracking_confidence=0.5) as pose:\n",
    "    \n",
    "    while video.isOpened():\n",
    "        ret,frame=video.read()\n",
    "        \n",
    "        if not ret:\n",
    "            print(\"ignoring the frames\")\n",
    "            continue\n",
    "        ## flip the image for later selfie view and convert into BGR\n",
    "        \n",
    "        frame=cv2.cvtColor(cv2.flip(frame,1),cv2.COLOR_BGR2RGB)\n",
    "        frame.flags.writeable = False\n",
    "        results=pose.process(frame)\n",
    "        \n",
    "        ## Draw the pose annotation on the image\n",
    "        frame.flags.writeable=True\n",
    "        frame = cv2.cvtColor(frame, cv2.COLOR_RGB2BGR)\n",
    "        mp_drawing.draw_landmarks(frame,results.pose_landmarks,mp_pose.POSE_CONNECTIONS)\n",
    "        cv2.imshow('pose',frame)\n",
    "        if cv2.waitKey(5) & 0xFF==1:\n",
    "            break\n",
    "        video.release()"
   ]
  }
 ],
 "metadata": {
  "kernelspec": {
   "display_name": "test_env",
   "language": "python",
   "name": "test_env"
  },
  "language_info": {
   "codemirror_mode": {
    "name": "ipython",
    "version": 3
   },
   "file_extension": ".py",
   "mimetype": "text/x-python",
   "name": "python",
   "nbconvert_exporter": "python",
   "pygments_lexer": "ipython3",
   "version": "3.7.7"
  }
 },
 "nbformat": 4,
 "nbformat_minor": 2
}
